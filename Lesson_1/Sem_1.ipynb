{
  "nbformat": 4,
  "nbformat_minor": 0,
  "metadata": {
    "colab": {
      "provenance": []
    },
    "kernelspec": {
      "name": "python3",
      "display_name": "Python 3"
    },
    "language_info": {
      "name": "python"
    }
  },
  "cells": [
    {
      "cell_type": "markdown",
      "source": [
        "## numpy"
      ],
      "metadata": {
        "id": "VvlYH6CJK9lz"
      }
    },
    {
      "cell_type": "markdown",
      "source": [
        "*   numpy.ndarray — это многомерный массив\n",
        "*   как и torch.Tensor хранит данные в виде непрерывного блока с фиксированным типом (например, float64)\n",
        "\n",
        "**Недостатки numpy.ndarray:**\n",
        "1.   Нет поддержки GPU: numpy работает только на CPU\n",
        "2.   Нет автодифференцирования (autograd): numpy не поддерживает автоматическое вычисление градиентов, что критично для глубокого обучения (DL)"
      ],
      "metadata": {
        "id": "HTTBtzT1nAgf"
      }
    },
    {
      "cell_type": "code",
      "source": [
        "import numpy as np\n",
        "import matplotlib.pyplot as plt"
      ],
      "metadata": {
        "id": "-T-TFEUPK9OH"
      },
      "execution_count": 10,
      "outputs": []
    },
    {
      "cell_type": "code",
      "execution_count": 11,
      "metadata": {
        "id": "hRxtBiUkgJP2"
      },
      "outputs": [],
      "source": [
        "# для воспроизводимости (чтобы у всех числа одинаковые генерились)\n",
        "np.random.seed(62)"
      ]
    },
    {
      "cell_type": "code",
      "source": [
        "n_samples = 100 # 100 обучающих примеров\n",
        "x = np.random.randint(-10, 10, (n_samples, 1))\n",
        "y = x*2 # научим нашу модель умножать на 2 (можно вставить любое линейное преобразование, нап, 2x + 333x)"
      ],
      "metadata": {
        "id": "XJvzbH7bK0XV"
      },
      "execution_count": 12,
      "outputs": []
    },
    {
      "cell_type": "code",
      "source": [
        "x.shape, y.shape"
      ],
      "metadata": {
        "colab": {
          "base_uri": "https://localhost:8080/"
        },
        "id": "1_Ax1VdXfuaC",
        "outputId": "07c0eaab-0b96-41d2-c759-c23475ceb7d2"
      },
      "execution_count": 13,
      "outputs": [
        {
          "output_type": "execute_result",
          "data": {
            "text/plain": [
              "((100, 1), (100, 1))"
            ]
          },
          "metadata": {},
          "execution_count": 13
        }
      ]
    },
    {
      "cell_type": "code",
      "source": [
        "# вопрос: зачем инициализировать веса случайным образом?\n",
        "# ответ: если веса изначально все одинаковые, то и обновляться они все будут одинаково и мы ничего не выучим\n",
        "\n",
        "# вопрос: зачем умножать на 0.01?\n",
        "# ответ: чтобы в начале обучения не произошел взрыв градиента (gradient explosion)\n",
        "# (когда выход модели слишком большой или слишком маленький)\n",
        "w = np.random.randn(1, 1) * 0.01\n",
        "# на самом деле существуют различные инициализации, например, Xavier и другие\n",
        "# но для демонстрации возьмем этот способ\n",
        "w, w.shape"
      ],
      "metadata": {
        "colab": {
          "base_uri": "https://localhost:8080/"
        },
        "id": "BwuwqikBfucc",
        "outputId": "a256e951-aaf7-4d9c-ea38-513c802eb007"
      },
      "execution_count": 14,
      "outputs": [
        {
          "output_type": "execute_result",
          "data": {
            "text/plain": [
              "(array([[-0.00335575]]), (1, 1))"
            ]
          },
          "metadata": {},
          "execution_count": 14
        }
      ]
    },
    {
      "cell_type": "code",
      "source": [
        "# нам хватает рандомности в w и мы не хотим вносить какую-то лишнюю информацию, поэтому инициализируем нулем\n",
        "b = 0.0\n",
        "# \"скорость обучения\" - гиперпараметр (который надо подбирать руками) - чем больше, тем сильнее шагаем в градиентном спуске\n",
        "learning_rate = 0.01\n",
        "# одна эпоха - это полный проход по нашим данным и обновление весов\n",
        "# за одну эпоху, наша модель \"видит\" все обучающие данные (всю трейн выборку)\n",
        "epochs = 1000"
      ],
      "metadata": {
        "id": "-YYyYVbPfue5"
      },
      "execution_count": 15,
      "outputs": []
    },
    {
      "cell_type": "code",
      "source": [
        "# модель - однослойная нейронная сеть (линейная регрессия)\n",
        "def forward(x, w, b):\n",
        "  return np.dot(x, w) + b # x * w + b\n",
        "\n",
        "# так как задача - регрессия (предсказываем какую-то неограниченную чиселку), то используем MSELoss\n",
        "def mse_loss(y_pred, y):\n",
        "  return np.mean((y_pred - y) ** 2)\n",
        "\n",
        "# производная mse_loss по y_pred\n",
        "def grad(y_pred, y, n_samples):\n",
        "  return 2 * (y_pred - y) / n_samples\n",
        "# вопрос: зачем делим на n_samples?\n",
        "# ответ: если не делить, то, чем больше примеров, тем больше значение, а нам этого не надо"
      ],
      "metadata": {
        "id": "DBBZ4BNCfuhE"
      },
      "execution_count": 16,
      "outputs": []
    },
    {
      "cell_type": "code",
      "source": [
        "print(x[0]) # вход (то, что мы подаем в нашу модель для получения ответа)\n",
        "print(y[0]) # таргет (то, что мы хотим получить в качестве ответа от нашей модели)\n",
        "forward(x, w, b)[0] # прогоняем нашу модель и получаем ответ (до обучения, он не совпадает с таргетом)"
      ],
      "metadata": {
        "colab": {
          "base_uri": "https://localhost:8080/"
        },
        "id": "EqeOjUA0fula",
        "outputId": "319769ab-2ea3-4e05-f441-eb5a83930f55"
      },
      "execution_count": 17,
      "outputs": [
        {
          "output_type": "stream",
          "name": "stdout",
          "text": [
            "[8]\n",
            "[16]\n"
          ]
        },
        {
          "output_type": "execute_result",
          "data": {
            "text/plain": [
              "array([-0.02684596])"
            ]
          },
          "metadata": {},
          "execution_count": 17
        }
      ]
    },
    {
      "cell_type": "code",
      "source": [
        "# получаем производную mse_loss по dw (для обновления весов)\n",
        "# dw: (d_loss / d_y_pred) * (d_y_pred / d_w) = dL * x (скалярное произведение) -> chain rule\n",
        "\n",
        "# получаем производную mse_loss по db (для обновления баесов (смещений))\n",
        "# db: (d_loss / d_y_pred) * (d_y_pred / d_b) = dL * 1 (скалярное произведение) -> chain rule"
      ],
      "metadata": {
        "id": "O-Ci6ghJr1Yi"
      },
      "execution_count": 18,
      "outputs": []
    },
    {
      "cell_type": "code",
      "source": [
        "# Главный вопрос - зачем считать производные лосса по w и по b?\n",
        "# ответ: производная лосса по параметрам (по w и по b) показывает, как лосс изменяется при изменении w и b\n",
        "# Знак производной указывает направление роста лосса: если dw > 0, то увеличение w увеличивает лосс, если dw < 0,\n",
        "# уменьшение w увеличивает лосс\n",
        "# Значение производной показывает, насколько быстро лосс изменяется при небольшом изменении параметра (w и b)\n",
        "\n",
        "# НО: наша задача - минимизировать лосс, поэтому мы движемся в противоположном направлении градиента,\n",
        "# вычитая производную, умноженную на learning_rate: w = w - learning_rate * dw, b = b - learning_rate * db"
      ],
      "metadata": {
        "id": "o-2PF9YMtA2v"
      },
      "execution_count": null,
      "outputs": []
    },
    {
      "cell_type": "code",
      "source": [
        "losses = []\n",
        "for epoch in range(epochs):\n",
        "  y_pred = forward(x, w, b) # получаем ответ нашей модели (prediction) - (n_samples, 1)\n",
        "  loss = mse_loss(y_pred, y) # считаем лосс между prediction и таргетом - одно число\n",
        "  losses.append(loss)\n",
        "\n",
        "  dL = grad(y_pred, y, n_samples) # производная mse_loss по y_pred -> (n_samples, 1)\n",
        "  dw = np.dot(x.T, dL) # (1, n_samples) * (n_samples, 1) -> (1, 1)\n",
        "  db = np.sum(dL) # скалярное произведение dL с вектором единичек (dL, 1) - одно число\n",
        "\n",
        "  # градиентный спуск\n",
        "  w -= learning_rate * dw # -= -> это in-place операция, которая не создает лишний объект w, а изменяет существующий\n",
        "  b -= learning_rate * db\n",
        "\n",
        "  if epoch % 100 == 0:\n",
        "    print(f'Epoch: {epoch}, loss: {loss:.8f}')"
      ],
      "metadata": {
        "colab": {
          "base_uri": "https://localhost:8080/"
        },
        "id": "vR-AKtKkfsOA",
        "outputId": "c7d63240-6533-450a-f32e-04c7a315d027"
      },
      "execution_count": 19,
      "outputs": [
        {
          "output_type": "stream",
          "name": "stdout",
          "text": [
            "Epoch: 0, loss: 158.57078692\n",
            "Epoch: 100, loss: 0.00002495\n",
            "Epoch: 200, loss: 0.00000046\n",
            "Epoch: 300, loss: 0.00000001\n",
            "Epoch: 400, loss: 0.00000000\n",
            "Epoch: 500, loss: 0.00000000\n",
            "Epoch: 600, loss: 0.00000000\n",
            "Epoch: 700, loss: 0.00000000\n",
            "Epoch: 800, loss: 0.00000000\n",
            "Epoch: 900, loss: 0.00000000\n"
          ]
        }
      ]
    },
    {
      "cell_type": "code",
      "source": [
        "plt.plot(losses[:10])\n",
        "plt.xlabel('epoch')\n",
        "plt.ylabel('loss');"
      ],
      "metadata": {
        "colab": {
          "base_uri": "https://localhost:8080/",
          "height": 449
        },
        "id": "KY0QleqvfsQJ",
        "outputId": "2a2ec6db-12f3-4d0b-888c-e05ab8032af0"
      },
      "execution_count": 20,
      "outputs": [
        {
          "output_type": "display_data",
          "data": {
            "text/plain": [
              "<Figure size 640x480 with 1 Axes>"
            ],
            "image/png": "[encoded data removed]"
          },
          "metadata": {}
        }
      ]
    },
    {
      "cell_type": "code",
      "source": [
        "# проверим качество нашей модели\n",
        "x_test = np.array([[5], [6], [7], [3], [2], [1234]])\n",
        "forward(x_test, w, b)"
      ],
      "metadata": {
        "colab": {
          "base_uri": "https://localhost:8080/"
        },
        "id": "9Dw7MPgffsVh",
        "outputId": "8bd5e9a4-e89a-4c27-b0c1-7cf65a71170c"
      },
      "execution_count": 21,
      "outputs": [
        {
          "output_type": "execute_result",
          "data": {
            "text/plain": [
              "array([[  10.],\n",
              "       [  12.],\n",
              "       [  14.],\n",
              "       [   6.],\n",
              "       [   4.],\n",
              "       [2468.]])"
            ]
          },
          "metadata": {},
          "execution_count": 21
        }
      ]
    },
    {
      "cell_type": "code",
      "source": [
        "w, b # обученные w и b (как мы и хотели: w = 2, b = 0)"
      ],
      "metadata": {
        "colab": {
          "base_uri": "https://localhost:8080/"
        },
        "id": "L3MYaMJCsrHE",
        "outputId": "a92c80fa-11fe-4d5b-de58-4024987fe601"
      },
      "execution_count": 22,
      "outputs": [
        {
          "output_type": "execute_result",
          "data": {
            "text/plain": [
              "(array([[2.]]), -8.113129571844962e-11)"
            ]
          },
          "metadata": {},
          "execution_count": 22
        }
      ]
    },
    {
      "cell_type": "markdown",
      "source": [
        "## torch (реализуем то же самое, но на торче)"
      ],
      "metadata": {
        "id": "sp5eHoffxLqn"
      }
    },
    {
      "cell_type": "code",
      "source": [
        "import torch\n",
        "import torch.nn as nn\n",
        "import numpy as np\n",
        "import matplotlib.pyplot as plt"
      ],
      "metadata": {
        "id": "PrvyaN0EfsYA"
      },
      "execution_count": 41,
      "outputs": []
    },
    {
      "cell_type": "code",
      "source": [
        "np.random.seed(62)"
      ],
      "metadata": {
        "id": "t7NoNNVTwFq1"
      },
      "execution_count": 42,
      "outputs": []
    },
    {
      "cell_type": "code",
      "source": [
        "n_samples = 100 # 100 обучающих примеров\n",
        "x = np.random.randint(-10, 10, (n_samples, 1))\n",
        "y = x*2 # научим нашу модель умножать на 2 (можно вставить любое линейное преобразование, нап., 2x + 333x)"
      ],
      "metadata": {
        "id": "kQjierdDfsaa"
      },
      "execution_count": 43,
      "outputs": []
    },
    {
      "cell_type": "code",
      "source": [
        "# создадим тензоры - многомерные массивы из PyTorch\n",
        "# они поддерживают вычисления на GPU\n",
        "# есть встроенное автодифференцирование (torch.autograd)\n",
        "# будем всегда использовать для DL (так как на numpy ничего серьезного не выучишь,\n",
        "# ввиду того, что обучение будет на CPU)\n",
        "\n",
        "# существуют несколько способов задать тензор:\n",
        "# первый - через torch.tensor - создаст тензор с таким типом (численным) данных,\n",
        "# который вы в него положили (нап, положили int'ы, получите тензор с int'ами)\n",
        "x = torch.tensor(x, dtype=torch.float32) # явно указываем, что хотим использовать тип torch.float32\n",
        "y = torch.tensor(y, dtype=torch.float32)\n",
        "\n",
        "# второй - через torch.Tensor - создаст тензор с типом float32,\n",
        "# то есть к входным данным применится неявное приведение типов (что иногда может быть не задумано)"
      ],
      "metadata": {
        "id": "JYWQJsLTfsfl"
      },
      "execution_count": 44,
      "outputs": []
    },
    {
      "cell_type": "code",
      "source": [
        "x.dtype, x.shape"
      ],
      "metadata": {
        "colab": {
          "base_uri": "https://localhost:8080/"
        },
        "id": "iZJ7V4j2xc5x",
        "outputId": "3f74fced-aa04-4632-c3d7-b243fa61351f"
      },
      "execution_count": 45,
      "outputs": [
        {
          "output_type": "execute_result",
          "data": {
            "text/plain": [
              "(torch.float32, torch.Size([100, 1]))"
            ]
          },
          "metadata": {},
          "execution_count": 45
        }
      ]
    },
    {
      "cell_type": "code",
      "source": [
        "#nn.Module — это базовый класс в PyTorch,\n",
        "# который используется для создания всех нейронных сетей и их компонентов\n",
        "# Когда вы наследуетесь от nn.Module (пишете, нап, class SimpleNN(nn.Module)),\n",
        "# вы получаете доступ к возможностям торча, которые упрощают создание, обучение и использование моделек\n",
        "# Что дает nn.Module:\n",
        "# 1) управление параметрами модели # без nn.Module пришлось бы вручную хранить и обновлять все веса, что неудобно\n",
        "# 2) автоматическая поддержка forward и backward\n",
        "# 3) удобство работы с GPU # nn.Module предоставляет метод .to(device) (нап, .to('cuda') - переносит на GPU)\n",
        "# 4) интеграция с оптимизаторами # можно просто передать model.parameters() в оптимизатор и балдеть\n",
        "\n",
        "# self.что-то -> атрибуты класса\n",
        "class SimpleNN(nn.Module): # наследуемся от nn.Module\n",
        "  def __init__(self, in_feat, out_feat):\n",
        "    super(SimpleNN, self).__init__() # вызываем конструктор родительского класса (nn.Module)\n",
        "    # что здесь написано? (super(...)):\n",
        "    # выполнить метод .__init__() родительского класса nn.Module\n",
        "    # для конкретного объекта класса SimpleNN (нашей модельки)\n",
        "\n",
        "    # создаем один линейный слой (по факту - линейная регрессия)\n",
        "    # in_features - количество входных фичей (у нас - одна фича: просто само число входное)\n",
        "    # out_features - количество выходных фичей (у нас - одна фича (число): хотим, чтобы это было входное число * 2)\n",
        "    # по умолчанию в nn.Linear bias равен True, но я явно это прописал\n",
        "    self.linear = nn.Linear(in_features=in_feat, out_features=out_feat, bias=True) # x * w + b\n",
        "\n",
        "  # метод forward будет вызываться, когда будем делать так: model(input_data)\n",
        "  def forward(self, x): # x - это входные данные (input_data)\n",
        "    return self.linear(x)"
      ],
      "metadata": {
        "id": "xAsC9RxFfsix"
      },
      "execution_count": 46,
      "outputs": []
    },
    {
      "cell_type": "code",
      "source": [
        "# создаем модельку\n",
        "model = SimpleNN(in_feat=1, out_feat=1)"
      ],
      "metadata": {
        "id": "381rI81gK0Z8"
      },
      "execution_count": 47,
      "outputs": []
    },
    {
      "cell_type": "code",
      "source": [
        "# можем посмотреть количество обучаемых(на будущее) параметров (здесь 2 - w и b)\n",
        "print(sum([p.numel() for p in model.parameters() if p.requires_grad]))\n",
        "\n",
        "# можно также посмотреть общее количество параметров (здесь тоже будет 2)\n",
        "sum([p.numel() for p in model.parameters()])"
      ],
      "metadata": {
        "colab": {
          "base_uri": "https://localhost:8080/"
        },
        "id": "A_CmQBHN4XnC",
        "outputId": "3847999e-b9dd-4b6b-b8a1-0c618177ce64"
      },
      "execution_count": 48,
      "outputs": [
        {
          "output_type": "stream",
          "name": "stdout",
          "text": [
            "2\n"
          ]
        },
        {
          "output_type": "execute_result",
          "data": {
            "text/plain": [
              "2"
            ]
          },
          "metadata": {},
          "execution_count": 48
        }
      ]
    },
    {
      "cell_type": "code",
      "source": [
        "# задаем MSELoss\n",
        "loss_fn = nn.MSELoss()\n",
        "# задаем оптимизатор - здесь используем SGD (stochastic gradient descent)\n",
        "optim = torch.optim.SGD(model.parameters(), lr=0.01) # передаем в оптимизатор параметры модели и learning_rate\n",
        "\n",
        "# оптимизаторов на самом деле много и если не знаете, что взять, берите Adam, AdamW (и мне нравится NAdam)\n",
        "# подробнее про оптимизаторы - на 2 занятии"
      ],
      "metadata": {
        "id": "v4ij6wCoK0cJ"
      },
      "execution_count": 49,
      "outputs": []
    },
    {
      "cell_type": "code",
      "source": [
        "# чтобы достать число из тензора, можно сделать tensor.item()\n",
        "a = torch.tensor([9.9838])\n",
        "a.item()"
      ],
      "metadata": {
        "colab": {
          "base_uri": "https://localhost:8080/"
        },
        "id": "hv_SfabCzhv6",
        "outputId": "963dc21f-31ba-4ea4-b16c-7ee83d7c0cd3"
      },
      "execution_count": 50,
      "outputs": [
        {
          "output_type": "execute_result",
          "data": {
            "text/plain": [
              "9.983799934387207"
            ]
          },
          "metadata": {},
          "execution_count": 50
        }
      ]
    },
    {
      "cell_type": "code",
      "source": [
        "epochs = 1000\n",
        "losses = []\n",
        "for epoch in range(epochs):\n",
        "  # (на будущее) если у вас есть Dropout или BatchNorm (или что-то еще, зависящее,\n",
        "  # находится ли модель в режиме обучения или нет), то нужно прописать model.train() - лучше всегда пишите\n",
        "  model.train()\n",
        "  y_pred = model(x) # получаем предсказание от модели\n",
        "  loss = loss_fn(y_pred, y) # считаем лосс\n",
        "  losses.append(loss.item())\n",
        "\n",
        "  # градиентный спуск (мантра, которую нужно запомнить)\n",
        "  optim.zero_grad() # cбрасывает (обнуляет) градиенты всех параметров модели, которые отслеживаются оптимизатором\n",
        "  loss.backward() # вычисляет градиенты функции потерь (лосса) по всем параметрам модели, у которых установлен флаг requires_grad=True, и сохраняет их в атрибуте .grad\n",
        "  optim.step() # делает шаг градиентного спуска\n",
        "\n",
        "  if epoch % 100 == 0:\n",
        "    print(f'Epoch: {epoch}, loss: {loss.item():.8f}')"
      ],
      "metadata": {
        "colab": {
          "base_uri": "https://localhost:8080/"
        },
        "id": "xDA9EAG4K0e2",
        "outputId": "23bb23a2-1fa7-415c-9762-5a1c1cdc3337"
      },
      "execution_count": 51,
      "outputs": [
        {
          "output_type": "stream",
          "name": "stdout",
          "text": [
            "Epoch: 0, loss: 103.63424683\n",
            "Epoch: 100, loss: 0.01480863\n",
            "Epoch: 200, loss: 0.00027473\n",
            "Epoch: 300, loss: 0.00000510\n",
            "Epoch: 400, loss: 0.00000009\n",
            "Epoch: 500, loss: 0.00000000\n",
            "Epoch: 600, loss: 0.00000000\n",
            "Epoch: 700, loss: 0.00000000\n",
            "Epoch: 800, loss: 0.00000000\n",
            "Epoch: 900, loss: 0.00000000\n"
          ]
        }
      ]
    },
    {
      "cell_type": "code",
      "source": [
        "plt.plot(losses[:10])\n",
        "plt.xlabel('epoch')\n",
        "plt.ylabel('loss');"
      ],
      "metadata": {
        "colab": {
          "base_uri": "https://localhost:8080/",
          "height": 449
        },
        "id": "2zpoXGe5K0hF",
        "outputId": "1378977f-62c9-4aeb-b887-082ad9aaa7df"
      },
      "execution_count": 52,
      "outputs": [
        {
          "output_type": "display_data",
          "data": {
            "text/plain": [
              "<Figure size 640x480 with 1 Axes>"
            ],
            "image/png": "[encoded data removed]"
          },
          "metadata": {}
        }
      ]
    },
    {
      "cell_type": "code",
      "source": [
        "# проверим качество нашей обученной модельки\n",
        "x_test = torch.tensor([[2], [3], [4], [5], [1000]], dtype=torch.float32)\n",
        "model(x_test)"
      ],
      "metadata": {
        "colab": {
          "base_uri": "https://localhost:8080/"
        },
        "id": "JiTfI8Z20vbr",
        "outputId": "9bf1b78d-b7d7-4d18-ea4d-f72efe7f093f"
      },
      "execution_count": 53,
      "outputs": [
        {
          "output_type": "execute_result",
          "data": {
            "text/plain": [
              "tensor([[   4.],\n",
              "        [   6.],\n",
              "        [   8.],\n",
              "        [  10.],\n",
              "        [2000.]], grad_fn=<AddmmBackward0>)"
            ]
          },
          "metadata": {},
          "execution_count": 53
        }
      ]
    },
    {
      "cell_type": "code",
      "source": [],
      "metadata": {
        "id": "EU1jjFmP6OLs"
      },
      "execution_count": null,
      "outputs": []
    }
  ]
}